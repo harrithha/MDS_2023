{
 "cells": [
  {
   "cell_type": "code",
   "execution_count": 31,
   "metadata": {},
   "outputs": [],
   "source": [
    "import cv2 \n",
    "import os\n",
    "from PIL import Image\n",
    "import numpy as np"
   ]
  },
  {
   "cell_type": "code",
   "execution_count": 32,
   "metadata": {},
   "outputs": [],
   "source": [
    "def findK(percentClarity, arr):\n",
    "    k = 0\n",
    "    s = 0\n",
    "    arrSum = sum(arr)\n",
    "    for i in arr:\n",
    "        s += i\n",
    "        p = (s/arrSum)*100\n",
    "        k+=1\n",
    "        if round(p) >= percentClarity:\n",
    "            return k\n",
    "\n",
    "def compress_channel(img_array, channel, percentage):\n",
    "    specific_channel = img_array[:,:,channel]\n",
    "    U, S, Vt = np.linalg.svd(specific_channel)\n",
    "    k = findK(percentage, S)\n",
    "    reconstructed_channel = U[:,:k] @ np.diag(S[:k]) @ Vt[:k,:]\n",
    "    return reconstructed_channel\n",
    "\n",
    "def compressed_image(img_array, percentage):\n",
    "    l, w, h = img_array.shape\n",
    "    newimg_array = np.zeros((l,w,h))\n",
    "    for channel in range(h):\n",
    "        newimg_array[:,:,channel] = compress_channel(img_array, channel, percentage)\n",
    "    return newimg_array"
   ]
  },
  {
   "cell_type": "code",
   "execution_count": 33,
   "metadata": {},
   "outputs": [],
   "source": [
    "# Function to extract frames\n",
    "\n",
    "def extract_frames(vid_path):\n",
    "\n",
    "    fps = 25.0\n",
    "    size = (100, 100)\n",
    "    fourcc = cv2.VideoWriter_fourcc(*'mp4v')\n",
    "\n",
    "    videoName = vid_path.split(\"/\")[-1].split(\".mp4\")[0]\n",
    "\n",
    "    directory = \"extracted_frames/\" + videoName\n",
    "\n",
    "    output_path = 'output_videos/' + videoName + '.mp4'\n",
    "\n",
    "    # Path to video file\n",
    "    videoObj = cv2.VideoCapture(vid_path)\n",
    "\n",
    "    # checks whether frames were extracted\n",
    "    success = 1\n",
    "    count = 1\n",
    "    out = cv2.VideoWriter(output_path, fourcc, fps, size)\n",
    "    while success:\n",
    "        success, image = videoObj.read()\n",
    "        if image is not None:\n",
    "            cv2.imwrite(directory + \"/\" + str(count) + \".jpg\", image)\n",
    "    out.release()\n",
    "    return videoName"
   ]
  },
  {
   "cell_type": "code",
   "execution_count": 34,
   "metadata": {},
   "outputs": [
    {
     "data": {
      "text/plain": [
       "array([[[ 22.35028061,  45.31757885,  79.04415857, 255.        ],\n",
       "        [ 28.98609868,  53.86705721,  95.43469279, 255.        ],\n",
       "        [ 29.89822766,  59.99842362, 111.62209386, 255.        ],\n",
       "        ...,\n",
       "        [  3.36518135,  17.63398832,  53.32691714, 255.        ],\n",
       "        [  3.75667446,  19.92464531,  52.51081312, 255.        ],\n",
       "        [  1.93266572,  15.96204184,  45.25579869, 255.        ]],\n",
       "\n",
       "       [[ 18.45359256,  42.96864047,  79.1839541 , 255.        ],\n",
       "        [ 28.47506549,  54.67749998,  97.31496752, 255.        ],\n",
       "        [ 31.71624384,  65.24325806, 116.38190519, 255.        ],\n",
       "        ...,\n",
       "        [  1.82376161,  18.7054605 ,  51.50673646, 255.        ],\n",
       "        [  2.25913934,  17.72958038,  50.49264273, 255.        ],\n",
       "        [  4.06522323,  17.20787861,  46.51454509, 255.        ]],\n",
       "\n",
       "       [[ 19.14775926,  47.02159143,  86.13272996, 255.        ],\n",
       "        [ 30.93760521,  60.42867566, 102.03246047, 255.        ],\n",
       "        [ 32.94710739,  68.44578362, 118.9741082 , 255.        ],\n",
       "        ...,\n",
       "        [  2.6523513 ,  19.1302363 ,  53.03469908, 255.        ],\n",
       "        [  3.17736627,  16.15410049,  50.16107445, 255.        ],\n",
       "        [  2.69868246,  17.90717788,  47.27151193, 255.        ]],\n",
       "\n",
       "       ...,\n",
       "\n",
       "       [[ 15.98062359,  27.80762651,  14.06938065, 255.        ],\n",
       "        [ 20.04804108,  35.35789133,  15.86798452, 255.        ],\n",
       "        [ 42.02857344,  59.57976938,  37.96019686, 255.        ],\n",
       "        ...,\n",
       "        [ 37.857382  ,  54.25088704,  27.82768104, 255.        ],\n",
       "        [ 15.17610348,  28.6969733 ,   5.66397294, 255.        ],\n",
       "        [ 29.57968027,  42.38793652,  21.31103311, 255.        ]],\n",
       "\n",
       "       [[  5.57605935,  18.22338452,   4.05186075, 255.        ],\n",
       "        [ 18.16489792,  32.66694349,  14.09139937, 255.        ],\n",
       "        [ 39.87360361,  58.40536191,  35.92231935, 255.        ],\n",
       "        ...,\n",
       "        [ 43.27477031,  58.16893312,  35.44086004, 255.        ],\n",
       "        [ 34.97384723,  49.45345435,  26.23042149, 255.        ],\n",
       "        [ 17.51533457,  29.86684368,   6.47964845, 255.        ]],\n",
       "\n",
       "       [[ 11.43235657,  22.78795048,   9.02090733, 255.        ],\n",
       "        [ 23.57148845,  38.98957515,  19.92853025, 255.        ],\n",
       "        [ 40.33652242,  58.07329422,  36.09506322, 255.        ],\n",
       "        ...,\n",
       "        [ 23.13007657,  38.70642528,  14.76516497, 255.        ],\n",
       "        [ 30.38098274,  44.87580733,  21.71620872, 255.        ],\n",
       "        [ 14.7467738 ,  25.5849818 ,   4.72235875, 255.        ]]])"
      ]
     },
     "metadata": {},
     "output_type": "display_data"
    }
   ],
   "source": [
    "p = r'C:/Harrithha/IIT_Dh/College_Academics/Sem_6/MDS/MDS_2023/Assignment_1/images/1.png'\n",
    "img = Image.open(p)\n",
    "img_array = np.array(img)\n",
    "i = compressed_image(img_array, 100)\n",
    "display(i)\n"
   ]
  },
  {
   "cell_type": "code",
   "execution_count": 46,
   "metadata": {},
   "outputs": [],
   "source": [
    "def createVideo(path, name):\n",
    "\n",
    "    # Define the frame rate and video size\n",
    "    fps = 24.0\n",
    "    size = (100, 100)\n",
    "\n",
    "    # Define the codec to use for the video\n",
    "    fourcc = cv2.VideoWriter_fourcc(*'mp4v')\n",
    "\n",
    "    # Define the output file name and path\n",
    "    output_path = 'output_videos/' + name + '.mp4'\n",
    "\n",
    "    # Create a new video writer object\n",
    "    out = cv2.VideoWriter(output_path, fourcc, fps, size)\n",
    "\n",
    "    # Loop through the images in the folder and add them to the video\n",
    "    for filename in os.listdir(path):\n",
    "        if filename.endswith('.jpg'):\n",
    "            img_path = os.path.join(path, filename)\n",
    "            img = cv2.imread(img_path)\n",
    "            img_array = np.array(img)\n",
    "            # i = compressed_image(img_array, 100)\n",
    "            out.write(img_array)\n",
    "\n",
    "    # Release the video writer object and close the video file\n",
    "    out.release()"
   ]
  },
  {
   "cell_type": "code",
   "execution_count": 47,
   "metadata": {},
   "outputs": [],
   "source": [
    "directory = r\"C:/Harrithha/IIT_Dh/College_Academics/Sem_6/MDS/MDS_2023/Assignment_1/videos/\"\n",
    "\n",
    "for video in os.listdir(directory):\n",
    "    videoPath  = directory + video\n",
    "    vidName = extract_frames(videoPath)\n",
    "    createVideo(\"extracted_frames/\" + vidName, vidName)"
   ]
  },
  {
   "cell_type": "code",
   "execution_count": null,
   "metadata": {},
   "outputs": [],
   "source": []
  }
 ],
 "metadata": {
  "kernelspec": {
   "display_name": "Python 3",
   "language": "python",
   "name": "python3"
  },
  "language_info": {
   "codemirror_mode": {
    "name": "ipython",
    "version": 3
   },
   "file_extension": ".py",
   "mimetype": "text/x-python",
   "name": "python",
   "nbconvert_exporter": "python",
   "pygments_lexer": "ipython3",
   "version": "3.8.10"
  },
  "orig_nbformat": 4,
  "vscode": {
   "interpreter": {
    "hash": "15fa0c71f14a2f86c8661da21312fc3d1cf0b76e48958c652e047ba9992a3476"
   }
  }
 },
 "nbformat": 4,
 "nbformat_minor": 2
}
