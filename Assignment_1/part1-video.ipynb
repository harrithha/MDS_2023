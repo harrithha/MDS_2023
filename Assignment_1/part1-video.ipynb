{
 "cells": [
  {
   "cell_type": "code",
   "execution_count": 1,
   "metadata": {},
   "outputs": [],
   "source": [
    "import cv2 \n",
    "import os\n",
    "from PIL import Image\n",
    "import numpy as np\n",
    "from tqdm import tqdm\n",
    "import matplotlib.pyplot as plt"
   ]
  },
  {
   "cell_type": "code",
   "execution_count": 2,
   "metadata": {},
   "outputs": [],
   "source": [
    "def findK(percentClarity, arr):\n",
    "    k = 0\n",
    "    s = 0\n",
    "    arrSum = sum(arr)\n",
    "    for i in arr:\n",
    "        s += i\n",
    "        p = (s/arrSum)*100\n",
    "        k+=1\n",
    "        if round(p) >= percentClarity:\n",
    "            return k\n",
    "\n",
    "def compress_channel(img_array, channel, percentage):\n",
    "    specific_channel = img_array[:,:,channel]\n",
    "    U, S, Vt = np.linalg.svd(specific_channel)\n",
    "    k = findK(percentage, S)\n",
    "    reconstructed_channel = U[:,:k] @ np.diag(S[:k]) @ Vt[:k,:]\n",
    "    return reconstructed_channel\n",
    "\n",
    "def compressed_image(img_array, percentage):\n",
    "    l, w, h = img_array.shape\n",
    "    newimg_array = np.zeros((l,w,h))\n",
    "    for channel in range(h):\n",
    "        newimg_array[:,:,channel] = compress_channel(img_array, channel, percentage)\n",
    "    # i = Image.fromarray(newimg_array.astype('uint8'))\n",
    "    newimg_array[:, :, [0, 2]] = newimg_array[:, :, [2, 0]]\n",
    "    return newimg_array"
   ]
  },
  {
   "cell_type": "code",
   "execution_count": 3,
   "metadata": {},
   "outputs": [],
   "source": [
    "# Function to extract frames\n",
    "\n",
    "def extract_frames(vid_path):\n",
    "\n",
    "    videoName = vid_path.split(\"/\")[-1].split(\".mp4\")[0]\n",
    "\n",
    "    directory = \"extracted_frames/\" + videoName\n",
    "    if not os.path.exists(directory):\n",
    "        os.mkdir(directory)\n",
    "\n",
    "\n",
    "    # Path to video file\n",
    "    videoObj = cv2.VideoCapture(vid_path)\n",
    "\n",
    "    # checks whether frames were extracted\n",
    "    success = 1\n",
    "    count = 1\n",
    "    while success:\n",
    "        success, image = videoObj.read()\n",
    "        if image is not None:\n",
    "            cv2.imwrite(directory + \"/\" + str(count) + \".jpg\", image)\n",
    "            count+=1\n",
    "    return videoName"
   ]
  },
  {
   "cell_type": "code",
   "execution_count": 4,
   "metadata": {},
   "outputs": [],
   "source": [
    "def createVideo(path, name):\n",
    "\n",
    "    # Define the frame rate and video size\n",
    "    firstImg = path + '/' + sorted(os.listdir(path))[0]\n",
    "    fps = cv2.VideoCapture(firstImg).get(cv2.CAP_PROP_FPS)\n",
    "    size = (100, 100)\n",
    "    count = 0\n",
    "    # Define the codec to use for the video\n",
    "    fourcc = cv2.VideoWriter_fourcc(*'mp4v')\n",
    "\n",
    "    # Define the output file name and path\n",
    "    output_path = 'output_videos/' + name + '.mp4'\n",
    "\n",
    "    # Create a new video writer object\n",
    "    out = cv2.VideoWriter(output_path, fourcc, fps, size)\n",
    "\n",
    "    # Loop through the images in the folder and add them to the video\n",
    "    for filename in tqdm(sorted(os.listdir(path))):\n",
    "        if filename.endswith('.jpg'):\n",
    "            \n",
    "            img_path = os.path.join(path, filename)\n",
    "            img = cv2.imread(img_path)\n",
    "            i = compressed_image(img, 100)\n",
    "            i[:, :, [0, 2]] = i[:, :, [2, 0]]\n",
    "            cv2.imwrite(img_path, i)\n",
    "            compressedImage = cv2.imread(img_path)\n",
    "            out.write(compressedImage)\n",
    "\n",
    "    # Release the video writer object and close the video file\n",
    "    out.release()"
   ]
  },
  {
   "cell_type": "code",
   "execution_count": 6,
   "metadata": {},
   "outputs": [
    {
     "name": "stderr",
     "output_type": "stream",
     "text": [
      "100%|██████████| 1655/1655 [20:48<00:00,  1.33it/s]\n"
     ]
    }
   ],
   "source": [
    "directory = r\"./videos/\"\n",
    "\n",
    "for video in os.listdir(directory):\n",
    "    videoPath  = directory + video\n",
    "    vidName = extract_frames(videoPath)\n",
    "    createVideo(\"extracted_frames/\" + vidName, vidName)"
   ]
  },
  {
   "cell_type": "code",
   "execution_count": 2,
   "metadata": {},
   "outputs": [],
   "source": [
    "import cv2\n",
    "import os\n",
    "\n",
    "# Define the path to the folder containing the images\n",
    "path = './images/'\n",
    "\n",
    "# Define the frame rate and video size\n",
    "fps = 25.0\n",
    "size = (100, 100)\n",
    "\n",
    "# Define the codec to use for the video\n",
    "fourcc = cv2.VideoWriter_fourcc(*'mp4v')\n",
    "\n",
    "# Define the output file name and path\n",
    "output_path = 'sh.mp4'\n",
    "\n",
    "# Create a new video writer object\n",
    "out = cv2.VideoWriter(output_path, fourcc, fps, size)\n",
    "\n",
    "# Loop through the images in the folder and add them to the video\n",
    "for filename in sorted(os.listdir(path)):\n",
    "    if filename.endswith('.jpg'):\n",
    "        img_path = os.path.join(path, filename)\n",
    "        img = cv2.imread(img_path)\n",
    "        out.write(img)\n",
    "\n",
    "# Release the video writer object and close the video file\n",
    "out.release()"
   ]
  },
  {
   "cell_type": "code",
   "execution_count": null,
   "metadata": {},
   "outputs": [],
   "source": []
  }
 ],
 "metadata": {
  "kernelspec": {
   "display_name": "Python 3",
   "language": "python",
   "name": "python3"
  },
  "language_info": {
   "codemirror_mode": {
    "name": "ipython",
    "version": 3
   },
   "file_extension": ".py",
   "mimetype": "text/x-python",
   "name": "python",
   "nbconvert_exporter": "python",
   "pygments_lexer": "ipython3",
   "version": "3.11.1"
  },
  "orig_nbformat": 4,
  "vscode": {
   "interpreter": {
    "hash": "52634da84371cba311ea128a5ea7cdc41ff074b781779e754b270ff9f8153cee"
   }
  }
 },
 "nbformat": 4,
 "nbformat_minor": 2
}
