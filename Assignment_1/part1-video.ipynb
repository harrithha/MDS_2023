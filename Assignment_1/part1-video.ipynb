{
 "cells": [
  {
   "cell_type": "code",
   "execution_count": 201,
   "metadata": {},
   "outputs": [],
   "source": [
    "import cv2 \n",
    "import os\n",
    "from PIL import Image\n",
    "import numpy as np\n",
    "from tqdm import tqdm\n",
    "import matplotlib.pyplot as plt"
   ]
  },
  {
   "cell_type": "code",
   "execution_count": 202,
   "metadata": {},
   "outputs": [],
   "source": [
    "def findK(percentClarity, arr):\n",
    "    k = 0\n",
    "    s = 0\n",
    "    arrSum = sum(arr)\n",
    "    for i in arr:\n",
    "        s += i\n",
    "        p = (s/arrSum)*100\n",
    "        k+=1\n",
    "        if round(p) >= percentClarity:\n",
    "            return k\n",
    "\n",
    "def compress_channel(img_array, channel, percentage):\n",
    "    specific_channel = img_array[:,:,channel]\n",
    "    U, S, Vt = np.linalg.svd(specific_channel)\n",
    "    k = findK(percentage, S)\n",
    "    reconstructed_channel = U[:,:k] @ np.diag(S[:k]) @ Vt[:k,:]\n",
    "    return reconstructed_channel\n",
    "\n",
    "def compressed_image(img_array, percentage):\n",
    "    l, w, h = img_array.shape\n",
    "    newimg_array = np.zeros((l,w,h))\n",
    "    for channel in range(h):\n",
    "        newimg_array[:,:,channel] = compress_channel(img_array, channel, percentage)\n",
    "    # i = Image.fromarray(newimg_array.astype('uint8'))\n",
    "    newimg_array[:, :, [0, 2]] = newimg_array[:, :, [2, 0]]\n",
    "    return newimg_array"
   ]
  },
  {
   "cell_type": "code",
   "execution_count": 203,
   "metadata": {},
   "outputs": [],
   "source": [
    "# Function to extract frames\n",
    "\n",
    "def extract_frames(vid_path):\n",
    "\n",
    "    videoName = vid_path.split(\"/\")[-1].split(\".mp4\")[0]\n",
    "\n",
    "    directory = \"extracted_frames/\" + videoName\n",
    "    if not os.path.exists(directory):\n",
    "        os.mkdir(directory)\n",
    "\n",
    "\n",
    "    # Path to video file\n",
    "    videoObj = cv2.VideoCapture(vid_path)\n",
    "\n",
    "    # checks whether frames were extracted\n",
    "    success = 1\n",
    "    count = 1\n",
    "    while success:\n",
    "        success, image = videoObj.read()\n",
    "        if image is not None:\n",
    "            cv2.imwrite(directory + \"/\" + str(count) + \".jpg\", image)\n",
    "            count+=1\n",
    "    return videoName"
   ]
  },
  {
   "cell_type": "code",
   "execution_count": 204,
   "metadata": {},
   "outputs": [],
   "source": [
    "def createVideo(path, name):\n",
    "\n",
    "    # Define the frame rate and video size\n",
    "    firstImg = path + '/' + sorted(os.listdir(path))[0]\n",
    "    fps = cv2.VideoCapture(firstImg).get(cv2.CAP_PROP_FPS)\n",
    "    size = (100, 100)\n",
    "    count = 0\n",
    "    # Define the codec to use for the video\n",
    "    fourcc = cv2.VideoWriter_fourcc(*'mp4v')\n",
    "\n",
    "    # Define the output file name and path\n",
    "    output_path = 'output_videos/' + name + '.mp4'\n",
    "\n",
    "    # Create a new video writer object\n",
    "    out = cv2.VideoWriter(output_path, fourcc, fps, size)\n",
    "\n",
    "    # Loop through the images in the folder and add them to the video\n",
    "    for filename in tqdm(sorted(os.listdir(path))):\n",
    "        if filename.endswith('.jpg'):\n",
    "            \n",
    "            img_path = os.path.join(path, filename)\n",
    "            img = cv2.imread(img_path)\n",
    "            i = compressed_image(img, 100)\n",
    "            i[:, :, [0, 2]] = i[:, :, [2, 0]]\n",
    "            cv2.imwrite(img_path, i)\n",
    "            compressedImage = cv2.imread(img_path)\n",
    "            out.write(compressedImage)\n",
    "\n",
    "    # Release the video writer object and close the video file\n",
    "    out.release()"
   ]
  },
  {
   "cell_type": "code",
   "execution_count": 205,
   "metadata": {},
   "outputs": [
    {
     "name": "stderr",
     "output_type": "stream",
     "text": [
      "  2%|▏         | 26/1655 [00:24<25:36,  1.06it/s]\n"
     ]
    },
    {
     "ename": "KeyboardInterrupt",
     "evalue": "",
     "output_type": "error",
     "traceback": [
      "\u001b[1;31m---------------------------------------------------------------------------\u001b[0m",
      "\u001b[1;31mKeyboardInterrupt\u001b[0m                         Traceback (most recent call last)",
      "Cell \u001b[1;32mIn[205], line 6\u001b[0m\n\u001b[0;32m      4\u001b[0m videoPath  \u001b[39m=\u001b[39m directory \u001b[39m+\u001b[39m video\n\u001b[0;32m      5\u001b[0m vidName \u001b[39m=\u001b[39m extract_frames(videoPath)\n\u001b[1;32m----> 6\u001b[0m createVideo(\u001b[39m\"\u001b[39;49m\u001b[39mextracted_frames/\u001b[39;49m\u001b[39m\"\u001b[39;49m \u001b[39m+\u001b[39;49m vidName, vidName)\n",
      "Cell \u001b[1;32mIn[204], line 23\u001b[0m, in \u001b[0;36mcreateVideo\u001b[1;34m(path, name)\u001b[0m\n\u001b[0;32m     21\u001b[0m img_path \u001b[39m=\u001b[39m os\u001b[39m.\u001b[39mpath\u001b[39m.\u001b[39mjoin(path, filename)\n\u001b[0;32m     22\u001b[0m img \u001b[39m=\u001b[39m cv2\u001b[39m.\u001b[39mimread(img_path)\n\u001b[1;32m---> 23\u001b[0m i \u001b[39m=\u001b[39m compressed_image(img, \u001b[39m100\u001b[39;49m)\n\u001b[0;32m     24\u001b[0m i[:, :, [\u001b[39m0\u001b[39m, \u001b[39m2\u001b[39m]] \u001b[39m=\u001b[39m i[:, :, [\u001b[39m2\u001b[39m, \u001b[39m0\u001b[39m]]\n\u001b[0;32m     25\u001b[0m cv2\u001b[39m.\u001b[39mimwrite(img_path, i)\n",
      "Cell \u001b[1;32mIn[202], line 23\u001b[0m, in \u001b[0;36mcompressed_image\u001b[1;34m(img_array, percentage)\u001b[0m\n\u001b[0;32m     21\u001b[0m newimg_array \u001b[39m=\u001b[39m np\u001b[39m.\u001b[39mzeros((l,w,h))\n\u001b[0;32m     22\u001b[0m \u001b[39mfor\u001b[39;00m channel \u001b[39min\u001b[39;00m \u001b[39mrange\u001b[39m(h):\n\u001b[1;32m---> 23\u001b[0m     newimg_array[:,:,channel] \u001b[39m=\u001b[39m compress_channel(img_array, channel, percentage)\n\u001b[0;32m     24\u001b[0m \u001b[39m# i = Image.fromarray(newimg_array.astype('uint8'))\u001b[39;00m\n\u001b[0;32m     25\u001b[0m newimg_array[:, :, [\u001b[39m0\u001b[39m, \u001b[39m2\u001b[39m]] \u001b[39m=\u001b[39m newimg_array[:, :, [\u001b[39m2\u001b[39m, \u001b[39m0\u001b[39m]]\n",
      "Cell \u001b[1;32mIn[202], line 14\u001b[0m, in \u001b[0;36mcompress_channel\u001b[1;34m(img_array, channel, percentage)\u001b[0m\n\u001b[0;32m     12\u001b[0m \u001b[39mdef\u001b[39;00m \u001b[39mcompress_channel\u001b[39m(img_array, channel, percentage):\n\u001b[0;32m     13\u001b[0m     specific_channel \u001b[39m=\u001b[39m img_array[:,:,channel]\n\u001b[1;32m---> 14\u001b[0m     U, S, Vt \u001b[39m=\u001b[39m np\u001b[39m.\u001b[39;49mlinalg\u001b[39m.\u001b[39;49msvd(specific_channel)\n\u001b[0;32m     15\u001b[0m     k \u001b[39m=\u001b[39m findK(percentage, S)\n\u001b[0;32m     16\u001b[0m     reconstructed_channel \u001b[39m=\u001b[39m U[:,:k] \u001b[39m@\u001b[39m np\u001b[39m.\u001b[39mdiag(S[:k]) \u001b[39m@\u001b[39m Vt[:k,:]\n",
      "File \u001b[1;32m<__array_function__ internals>:200\u001b[0m, in \u001b[0;36msvd\u001b[1;34m(*args, **kwargs)\u001b[0m\n",
      "File \u001b[1;32mc:\\Users\\Harrithha\\AppData\\Local\\Programs\\Python\\Python38\\lib\\site-packages\\numpy\\linalg\\linalg.py:1642\u001b[0m, in \u001b[0;36msvd\u001b[1;34m(a, full_matrices, compute_uv, hermitian)\u001b[0m\n\u001b[0;32m   1639\u001b[0m         gufunc \u001b[39m=\u001b[39m _umath_linalg\u001b[39m.\u001b[39msvd_n_s\n\u001b[0;32m   1641\u001b[0m signature \u001b[39m=\u001b[39m \u001b[39m'\u001b[39m\u001b[39mD->DdD\u001b[39m\u001b[39m'\u001b[39m \u001b[39mif\u001b[39;00m isComplexType(t) \u001b[39melse\u001b[39;00m \u001b[39m'\u001b[39m\u001b[39md->ddd\u001b[39m\u001b[39m'\u001b[39m\n\u001b[1;32m-> 1642\u001b[0m u, s, vh \u001b[39m=\u001b[39m gufunc(a, signature\u001b[39m=\u001b[39;49msignature, extobj\u001b[39m=\u001b[39;49mextobj)\n\u001b[0;32m   1643\u001b[0m u \u001b[39m=\u001b[39m u\u001b[39m.\u001b[39mastype(result_t, copy\u001b[39m=\u001b[39m\u001b[39mFalse\u001b[39;00m)\n\u001b[0;32m   1644\u001b[0m s \u001b[39m=\u001b[39m s\u001b[39m.\u001b[39mastype(_realType(result_t), copy\u001b[39m=\u001b[39m\u001b[39mFalse\u001b[39;00m)\n",
      "\u001b[1;31mKeyboardInterrupt\u001b[0m: "
     ]
    }
   ],
   "source": [
    "directory = r\"C:/Harrithha/IIT_Dh/College_Academics/Sem_6/MDS/MDS_2023/Assignment_1/videos/\"\n",
    "\n",
    "for video in os.listdir(directory):\n",
    "    videoPath  = directory + video\n",
    "    vidName = extract_frames(videoPath)\n",
    "    createVideo(\"extracted_frames/\" + vidName, vidName)"
   ]
  },
  {
   "cell_type": "code",
   "execution_count": null,
   "metadata": {},
   "outputs": [],
   "source": []
  }
 ],
 "metadata": {
  "kernelspec": {
   "display_name": "Python 3",
   "language": "python",
   "name": "python3"
  },
  "language_info": {
   "codemirror_mode": {
    "name": "ipython",
    "version": 3
   },
   "file_extension": ".py",
   "mimetype": "text/x-python",
   "name": "python",
   "nbconvert_exporter": "python",
   "pygments_lexer": "ipython3",
   "version": "3.8.10"
  },
  "orig_nbformat": 4,
  "vscode": {
   "interpreter": {
    "hash": "15fa0c71f14a2f86c8661da21312fc3d1cf0b76e48958c652e047ba9992a3476"
   }
  }
 },
 "nbformat": 4,
 "nbformat_minor": 2
}
