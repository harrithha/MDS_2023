{
 "cells": [
  {
   "attachments": {},
   "cell_type": "markdown",
   "metadata": {},
   "source": [
    "## Importing Libraries"
   ]
  },
  {
   "cell_type": "code",
   "execution_count": 20,
   "metadata": {},
   "outputs": [],
   "source": [
    "import cv2\n",
    "import numpy as np\n",
    "from PIL import Image\n",
    "import matplotlib.pyplot as plt"
   ]
  },
  {
   "attachments": {},
   "cell_type": "markdown",
   "metadata": {},
   "source": [
    "## Compress Class"
   ]
  },
  {
   "cell_type": "code",
   "execution_count": 21,
   "metadata": {},
   "outputs": [],
   "source": [
    "class SVDImageCompressor:\n",
    "    \n",
    "    def __init__(self, img_path, compressed_path, out_path):\n",
    "        self.img_path = img_path\n",
    "        self.compressed_path = compressed_path\n",
    "        self.out_path = out_path\n",
    "    \n",
    "    def findK(self, percentClarity, arr):\n",
    "        k = 0\n",
    "        s = 0\n",
    "        arrSum = sum(arr)\n",
    "        for i in arr:\n",
    "            s += i\n",
    "            p = (s/arrSum)*100\n",
    "            k+=1\n",
    "            if p >= percentClarity:\n",
    "                break\n",
    "        return k\n",
    "\n",
    "    def compress_channel(self, img_array, channel, percentage):\n",
    "        specific_channel = img_array[:,:,channel]\n",
    "        U, S, Vt = np.linalg.svd(specific_channel)\n",
    "        k = self.findK(percentage, S)\n",
    "        reconstructed_channel = U[:,:k] @ np.diag(S[:k]) @ Vt[:k,:]\n",
    "        return reconstructed_channel\n",
    "\n",
    "    def store_compressed_data(self, quality):\n",
    "        img = Image.open(self.img_path)\n",
    "        img_array = np.array(img)\n",
    "        l, w, h = img_array.shape\n",
    "        newimg_array = np.zeros((l,w,h))\n",
    "        for channel in range(h):\n",
    "            newimg_array[:,:,channel] = self.compress_channel(img_array, channel, quality)\n",
    "        np.save(self.compressed_path, newimg_array)\n",
    "        return newimg_array\n",
    "\n",
    "    def reconstruct_compressed_image(self):\n",
    "        compressed_image = np.load(self.compressed_path)\n",
    "        img = Image.fromarray(compressed_image.astype('uint8'))\n",
    "        img.save(self.out_path)\n",
    "        return img"
   ]
  },
  {
   "cell_type": "code",
   "execution_count": 26,
   "metadata": {},
   "outputs": [
    {
     "data": {
      "image/png": "[encoded data removed]",
      "text/plain": [
       "<PIL.Image.Image image mode=RGBA size=100x100>"
      ]
     },
     "execution_count": 26,
     "metadata": {},
     "output_type": "execute_result"
    }
   ],
   "source": [
    "img_comp = SVDImageCompressor(img_path=\"./images/1.png\", compressed_path=\"./compressed_images/1.npy\", out_path=\"./compressed_images/1.png\")\n",
    "img_comp.store_compressed_data(quality=20)\n",
    "final = img_comp.reconstruct_compressed_image()\n",
    "final"
   ]
  },
  {
   "cell_type": "code",
   "execution_count": null,
   "metadata": {},
   "outputs": [],
   "source": []
  }
 ],
 "metadata": {
  "kernelspec": {
   "display_name": "Python 3",
   "language": "python",
   "name": "python3"
  },
  "language_info": {
   "codemirror_mode": {
    "name": "ipython",
    "version": 3
   },
   "file_extension": ".py",
   "mimetype": "text/x-python",
   "name": "python",
   "nbconvert_exporter": "python",
   "pygments_lexer": "ipython3",
   "version": "3.11.1"
  },
  "orig_nbformat": 4,
  "vscode": {
   "interpreter": {
    "hash": "52634da84371cba311ea128a5ea7cdc41ff074b781779e754b270ff9f8153cee"
   }
  }
 },
 "nbformat": 4,
 "nbformat_minor": 2
}
