{
 "cells": [
  {
   "cell_type": "code",
   "execution_count": 4,
   "metadata": {},
   "outputs": [],
   "source": [
    "import cv2 \n",
    "import os"
   ]
  },
  {
   "cell_type": "code",
   "execution_count": 23,
   "metadata": {},
   "outputs": [],
   "source": [
    "# Function to extract frames\n",
    "\n",
    "def extract_frames(vid_path):\n",
    "\n",
    "    videoName = vid_path.split(\"/\")[-1].split(\".mp4\")[0]\n",
    "    directory = \"extracted_frames/\" + videoName\n",
    "\n",
    "    if not os.path.exists(directory):\n",
    "        os.mkdir(directory)\n",
    "    \n",
    "    # Path to video file\n",
    "    videoObj = cv2.VideoCapture(vid_path)\n",
    "  \n",
    "    # Used as counter variable\n",
    "    count = 1\n",
    "  \n",
    "    # checks whether frames were extracted\n",
    "    success = 1\n",
    "  \n",
    "    while success:\n",
    "        success, image = videoObj.read()\n",
    "        if image is not None:\n",
    "        # Saves the frames with frame-count\n",
    "            cv2.imwrite(directory + \"/\" + str(count) + \".jpg\", image)\n",
    "  \n",
    "        count += 1\n",
    "    print(count)"
   ]
  },
  {
   "cell_type": "code",
   "execution_count": 24,
   "metadata": {},
   "outputs": [
    {
     "name": "stdout",
     "output_type": "stream",
     "text": [
      "458\n"
     ]
    }
   ],
   "source": [
    "directory = r\"C:/Harrithha/IIT_Dh/College_Academics/Sem_6/MDS/MDS_2023/Assignment_1/videos/\"\n",
    "\n",
    "for video in os.listdir(directory):\n",
    "    videoPath  = directory + video\n",
    "    extract_frames(videoPath)"
   ]
  },
  {
   "cell_type": "code",
   "execution_count": 29,
   "metadata": {},
   "outputs": [
    {
     "name": "stdout",
     "output_type": "stream",
     "text": [
      "u.shape:(100, 100, 3),s.shape:(100, 3),v.shape:(100, 3, 3)\n"
     ]
    }
   ],
   "source": [
    "import requests\n",
    "import cv2\n",
    "import numpy as np\n",
    "import matplotlib.pyplot as plt\n",
    "  \n",
    "# assign and open image\n",
    "url = 'C:/Harrithha/IIT_Dh/College_Academics/Sem_6/MDS/MDS_2023/Assignment_1/images/1.png'\n",
    "\n",
    "img = cv2.imread(url)\n",
    "\n",
    "# Converting the image into gray scale for faster\n",
    "# computation.\n",
    "  \n",
    "# Calculating the SVD\n",
    "u, s, v = np.linalg.svd(img, full_matrices=False)\n",
    "  \n",
    "# inspect shapes of the matrices\n",
    "print(f'u.shape:{u.shape},s.shape:{s.shape},v.shape:{v.shape}')"
   ]
  },
  {
   "cell_type": "code",
   "execution_count": 40,
   "metadata": {},
   "outputs": [],
   "source": [
    "def findK(percentClarity, arr):\n",
    "    k = 0\n",
    "    s = 0\n",
    "    arrSum = sum(arr)\n",
    "    for i in arr:\n",
    "        s += i\n",
    "        p = (s/arrSum)*100\n",
    "        k+=1\n",
    "        if round(p) >= percentClarity:\n",
    "            return k"
   ]
  },
  {
   "cell_type": "code",
   "execution_count": null,
   "metadata": {},
   "outputs": [],
   "source": []
  }
 ],
 "metadata": {
  "kernelspec": {
   "display_name": "Python 3",
   "language": "python",
   "name": "python3"
  },
  "language_info": {
   "codemirror_mode": {
    "name": "ipython",
    "version": 3
   },
   "file_extension": ".py",
   "mimetype": "text/x-python",
   "name": "python",
   "nbconvert_exporter": "python",
   "pygments_lexer": "ipython3",
   "version": "3.8.10"
  },
  "orig_nbformat": 4,
  "vscode": {
   "interpreter": {
    "hash": "15fa0c71f14a2f86c8661da21312fc3d1cf0b76e48958c652e047ba9992a3476"
   }
  }
 },
 "nbformat": 4,
 "nbformat_minor": 2
}
