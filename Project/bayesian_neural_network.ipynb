{
  "cells": [
    {
      "attachments": {},
      "cell_type": "markdown",
      "id": "a571216c",
      "metadata": {},
      "source": [
        "# Bayesian Neural Network\n",
        "\n",
        "#### Can be run on Google Colaboratory"
      ]
    },
    {
      "cell_type": "code",
      "execution_count": 167,
      "id": "oXKklyTqkbfm",
      "metadata": {
        "colab": {
          "base_uri": "https://localhost:8080/"
        },
        "id": "oXKklyTqkbfm",
        "outputId": "e00be538-fdde-4200-e758-71087c29fbda"
      },
      "outputs": [
        {
          "name": "stdout",
          "output_type": "stream",
          "text": [
            "Looking in indexes: https://pypi.org/simple, https://us-python.pkg.dev/colab-wheels/public/simple/\n",
            "Requirement already satisfied: bijax in /usr/local/lib/python3.9/dist-packages (0.1.1)\n",
            "Requirement already satisfied: jaxlib in /usr/local/lib/python3.9/dist-packages (from bijax) (0.4.7+cuda11.cudnn86)\n",
            "Requirement already satisfied: jax in /usr/local/lib/python3.9/dist-packages (from bijax) (0.4.7)\n",
            "Requirement already satisfied: numpy in /usr/local/lib/python3.9/dist-packages (from bijax) (1.22.4)\n",
            "Requirement already satisfied: tensorflow-probability in /usr/local/lib/python3.9/dist-packages (from bijax) (0.19.0)\n",
            "Requirement already satisfied: setuptools-scm[toml] in /usr/local/lib/python3.9/dist-packages (from bijax) (7.1.0)\n",
            "Requirement already satisfied: setuptools-scm-git-archive in /usr/local/lib/python3.9/dist-packages (from bijax) (1.4)\n",
            "Requirement already satisfied: scipy>=1.7 in /usr/local/lib/python3.9/dist-packages (from jax->bijax) (1.10.1)\n",
            "Requirement already satisfied: ml-dtypes>=0.0.3 in /usr/local/lib/python3.9/dist-packages (from jax->bijax) (0.0.4)\n",
            "Requirement already satisfied: opt-einsum in /usr/local/lib/python3.9/dist-packages (from jax->bijax) (3.3.0)\n",
            "Requirement already satisfied: typing-extensions in /usr/local/lib/python3.9/dist-packages (from setuptools-scm[toml]->bijax) (4.5.0)\n",
            "Requirement already satisfied: tomli>=1.0.0 in /usr/local/lib/python3.9/dist-packages (from setuptools-scm[toml]->bijax) (2.0.1)\n",
            "Requirement already satisfied: packaging>=20.0 in /usr/local/lib/python3.9/dist-packages (from setuptools-scm[toml]->bijax) (23.0)\n",
            "Requirement already satisfied: setuptools in /usr/local/lib/python3.9/dist-packages (from setuptools-scm[toml]->bijax) (67.6.1)\n",
            "Requirement already satisfied: absl-py in /usr/local/lib/python3.9/dist-packages (from tensorflow-probability->bijax) (1.4.0)\n",
            "Requirement already satisfied: decorator in /usr/local/lib/python3.9/dist-packages (from tensorflow-probability->bijax) (4.4.2)\n",
            "Requirement already satisfied: six>=1.10.0 in /usr/local/lib/python3.9/dist-packages (from tensorflow-probability->bijax) (1.16.0)\n",
            "Requirement already satisfied: cloudpickle>=1.3 in /usr/local/lib/python3.9/dist-packages (from tensorflow-probability->bijax) (2.2.1)\n",
            "Requirement already satisfied: gast>=0.3.2 in /usr/local/lib/python3.9/dist-packages (from tensorflow-probability->bijax) (0.4.0)\n",
            "Requirement already satisfied: dm-tree in /usr/local/lib/python3.9/dist-packages (from tensorflow-probability->bijax) (0.1.8)\n"
          ]
        }
      ],
      "source": [
        "!pip install bijax"
      ]
    },
    {
      "cell_type": "code",
      "execution_count": 168,
      "id": "viqysIgIkybo",
      "metadata": {
        "colab": {
          "base_uri": "https://localhost:8080/"
        },
        "id": "viqysIgIkybo",
        "outputId": "69fff9d8-3bb6-4298-af0a-b072ef52da31"
      },
      "outputs": [
        {
          "name": "stdout",
          "output_type": "stream",
          "text": [
            "Looking in indexes: https://pypi.org/simple, https://us-python.pkg.dev/colab-wheels/public/simple/\n",
            "Requirement already satisfied: regdata in /usr/local/lib/python3.9/dist-packages (1.0.4)\n",
            "Requirement already satisfied: numpy in /usr/local/lib/python3.9/dist-packages (from regdata) (1.22.4)\n",
            "Requirement already satisfied: pandas in /usr/local/lib/python3.9/dist-packages (from regdata) (1.4.4)\n",
            "Requirement already satisfied: matplotlib in /usr/local/lib/python3.9/dist-packages (from regdata) (3.7.1)\n",
            "Requirement already satisfied: scikit-learn in /usr/local/lib/python3.9/dist-packages (from regdata) (1.2.2)\n",
            "Requirement already satisfied: cycler>=0.10 in /usr/local/lib/python3.9/dist-packages (from matplotlib->regdata) (0.11.0)\n",
            "Requirement already satisfied: contourpy>=1.0.1 in /usr/local/lib/python3.9/dist-packages (from matplotlib->regdata) (1.0.7)\n",
            "Requirement already satisfied: fonttools>=4.22.0 in /usr/local/lib/python3.9/dist-packages (from matplotlib->regdata) (4.39.3)\n",
            "Requirement already satisfied: pillow>=6.2.0 in /usr/local/lib/python3.9/dist-packages (from matplotlib->regdata) (8.4.0)\n",
            "Requirement already satisfied: importlib-resources>=3.2.0 in /usr/local/lib/python3.9/dist-packages (from matplotlib->regdata) (5.12.0)\n",
            "Requirement already satisfied: pyparsing>=2.3.1 in /usr/local/lib/python3.9/dist-packages (from matplotlib->regdata) (3.0.9)\n",
            "Requirement already satisfied: kiwisolver>=1.0.1 in /usr/local/lib/python3.9/dist-packages (from matplotlib->regdata) (1.4.4)\n",
            "Requirement already satisfied: packaging>=20.0 in /usr/local/lib/python3.9/dist-packages (from matplotlib->regdata) (23.0)\n",
            "Requirement already satisfied: python-dateutil>=2.7 in /usr/local/lib/python3.9/dist-packages (from matplotlib->regdata) (2.8.2)\n",
            "Requirement already satisfied: pytz>=2020.1 in /usr/local/lib/python3.9/dist-packages (from pandas->regdata) (2022.7.1)\n",
            "Requirement already satisfied: joblib>=1.1.1 in /usr/local/lib/python3.9/dist-packages (from scikit-learn->regdata) (1.1.1)\n",
            "Requirement already satisfied: threadpoolctl>=2.0.0 in /usr/local/lib/python3.9/dist-packages (from scikit-learn->regdata) (3.1.0)\n",
            "Requirement already satisfied: scipy>=1.3.2 in /usr/local/lib/python3.9/dist-packages (from scikit-learn->regdata) (1.10.1)\n",
            "Requirement already satisfied: zipp>=3.1.0 in /usr/local/lib/python3.9/dist-packages (from importlib-resources>=3.2.0->matplotlib->regdata) (3.15.0)\n",
            "Requirement already satisfied: six>=1.5 in /usr/local/lib/python3.9/dist-packages (from python-dateutil>=2.7->matplotlib->regdata) (1.16.0)\n"
          ]
        }
      ],
      "source": [
        "!pip install regdata"
      ]
    },
    {
      "cell_type": "code",
      "execution_count": 169,
      "id": "32259b5f",
      "metadata": {
        "id": "32259b5f"
      },
      "outputs": [],
      "source": [
        "import matplotlib.pyplot as plt\n",
        "import seaborn as sns\n",
        "\n",
        "import tensorflow_probability.substrates.jax as tfp\n",
        "\n",
        "tfd = tfp.distributions\n",
        "tfb = tfp.bijectors\n",
        "\n",
        "import jax\n",
        "from jax.flatten_util import ravel_pytree\n",
        "import jax.numpy as jnp\n",
        "import optax\n",
        "\n",
        "import flax.linen as nn\n",
        "from flax.core.frozen_dict import freeze, unfreeze\n",
        "\n",
        "from bijax.advi import ADVI\n",
        "from bijax.core import transform_dist_params\n",
        "from bijax.utils import train_fn, initialize_params\n",
        "\n",
        "from functools import partial\n",
        "import regdata as rd\n",
        "\n",
        "init = 123"
      ]
    },
    {
      "cell_type": "markdown",
      "id": "242e1a46",
      "metadata": {
        "id": "242e1a46"
      },
      "source": [
        "## Prepare dataset"
      ]
    },
    {
      "cell_type": "code",
      "execution_count": 64,
      "id": "3e215ec6",
      "metadata": {
        "id": "3e215ec6"
      },
      "outputs": [],
      "source": [
        "def load_multinoise(seed):\n",
        "    N = 100\n",
        "    key, subkey = jax.random.split(seed)\n",
        "    X = jax.random.uniform(key, shape=(100, 1), minval=0.0, maxval=0.5).reshape(-1, 1)\n",
        "    X_test = jax.random.uniform(key, shape=(200, 1), minval=-0.5, maxval=1.0).reshape(-1, 1)\n",
        "    def f(seed, x):\n",
        "        epsilons = jax.random.normal(seed, shape=(3,)) * 0.02\n",
        "        return x + 0.3 * jnp.sin(2 * jnp.pi * (x + epsilons[0])) + 0.3 * jnp.sin(4 * jnp.pi * (x + epsilons[1])) + epsilons[2]\n",
        "    target_vmap = jax.vmap(f)\n",
        "    keys = jax.random.split(subkey, X.shape[0])\n",
        "    y = target_vmap(keys, X)# + jax.random.normal(subkey, shape=(X.shape[0], 1))*0.02\n",
        "    idx = jnp.argsort(X.ravel())\n",
        "    return X[idx], y[idx].ravel(), X_test.sort(axis=0)"
      ]
    },
    {
      "cell_type": "code",
      "execution_count": 172,
      "id": "0d7a760c",
      "metadata": {
        "colab": {
          "base_uri": "https://localhost:8080/",
          "height": 447
        },
        "id": "0d7a760c",
        "outputId": "800c8486-83f5-48f0-f351-9220b65cf36c"
      },
      "outputs": [
        {
          "data": {
            "text/plain": [
              "((100, 1), (100,))"
            ]
          },
          "execution_count": 172,
          "metadata": {},
          "output_type": "execute_result"
        },
        {
          "data": {
            "image/png": "[encoded data removed]",
            "text/plain": [
              "<Figure size 640x480 with 1 Axes>"
            ]
          },
          "metadata": {},
          "output_type": "display_data"
        }
      ],
      "source": [
        "seed = jax.random.PRNGKey(init)\n",
        "X, y, X_test = load_multinoise(seed)\n",
        "# X, y, X_test = rd.SineNoisy().get_data()\n",
        "\n",
        "plt.scatter(X, y);\n",
        "X.shape, y.shape"
      ]
    },
    {
      "cell_type": "markdown",
      "id": "69b9b3c5",
      "metadata": {
        "id": "69b9b3c5"
      },
      "source": [
        "## Define and initialize NN"
      ]
    },
    {
      "cell_type": "code",
      "execution_count": 174,
      "id": "Mppgt6MmIl-p",
      "metadata": {
        "colab": {
          "base_uri": "https://localhost:8080/"
        },
        "id": "Mppgt6MmIl-p",
        "outputId": "05647dbe-9ae3-41bc-a210-e68a94517757"
      },
      "outputs": [
        {
          "data": {
            "text/plain": [
              "(200, 1)"
            ]
          },
          "execution_count": 174,
          "metadata": {},
          "output_type": "execute_result"
        }
      ],
      "source": [
        "X_test.shape"
      ]
    },
    {
      "cell_type": "code",
      "execution_count": 189,
      "id": "f0243acd",
      "metadata": {
        "id": "f0243acd"
      },
      "outputs": [],
      "source": [
        "class MLP(nn.Module):\n",
        "    layers: list\n",
        "    \n",
        "    @nn.compact\n",
        "    def __call__(self, x):\n",
        "        i = 0\n",
        "        for num_features in self.layers[:-1]:\n",
        "            x = nn.relu(nn.Dense(num_features, name = 'dense'+str(i))(x))\n",
        "            i+= 1\n",
        "        x = nn.Dense(self.layers[-1], name = 'denselast')(x)\n",
        "        return x.ravel()\n",
        "\n",
        "mlp = MLP([ 16, 32,1])"
      ]
    },
    {
      "cell_type": "markdown",
      "id": "8a000c5d",
      "metadata": {
        "id": "8a000c5d"
      },
      "source": [
        "## Initialize NN parameters"
      ]
    },
    {
      "cell_type": "code",
      "execution_count": 190,
      "id": "f7f34d06",
      "metadata": {
        "id": "f7f34d06",
        "scrolled": false
      },
      "outputs": [],
      "source": [
        "seed = jax.random.PRNGKey(init+1)\n",
        "frozen_params = mlp.init(seed, X)"
      ]
    },
    {
      "cell_type": "markdown",
      "id": "5a358106",
      "metadata": {
        "id": "5a358106"
      },
      "source": [
        "We need to unfreeze the parameters to use outside of `flax`."
      ]
    },
    {
      "cell_type": "code",
      "execution_count": 191,
      "id": "497698f6",
      "metadata": {
        "id": "497698f6"
      },
      "outputs": [],
      "source": [
        "init_params = unfreeze(frozen_params)"
      ]
    },
    {
      "cell_type": "markdown",
      "id": "c441ed1a",
      "metadata": {
        "id": "c441ed1a"
      },
      "source": [
        "## Define prior for all NN parameters"
      ]
    },
    {
      "cell_type": "markdown",
      "id": "10195a87",
      "metadata": {
        "id": "10195a87"
      },
      "source": [
        "Note that `tfd.Independent` will convert all batch dimensions to event dimensions so that each prior distribution can return a scalar log prob."
      ]
    },
    {
      "cell_type": "code",
      "execution_count": 192,
      "id": "d4d20bbb",
      "metadata": {
        "colab": {
          "base_uri": "https://localhost:8080/"
        },
        "id": "d4d20bbb",
        "outputId": "bc06c1a4-fc65-45d4-800d-15119117ad8a"
      },
      "outputs": [
        {
          "data": {
            "text/plain": [
              "{'mlp': {'params': {'dense0': {'bias': <tfp.distributions.Independent 'IndependentNormal' batch_shape=[] event_shape=[16] dtype=float32>,\n",
              "    'kernel': <tfp.distributions.Independent 'IndependentNormal' batch_shape=[] event_shape=[1, 16] dtype=float32>},\n",
              "   'dense1': {'bias': <tfp.distributions.Independent 'IndependentNormal' batch_shape=[] event_shape=[32] dtype=float32>,\n",
              "    'kernel': <tfp.distributions.Independent 'IndependentNormal' batch_shape=[] event_shape=[16, 32] dtype=float32>},\n",
              "   'denselast': {'bias': <tfp.distributions.Independent 'IndependentNormal' batch_shape=[] event_shape=[1] dtype=float32>,\n",
              "    'kernel': <tfp.distributions.Independent 'IndependentNormal' batch_shape=[] event_shape=[32, 1] dtype=float32>}}},\n",
              " 'noise_scale': <tfp.distributions.Gamma 'Gamma' batch_shape=[] event_shape=[] dtype=float32>}"
            ]
          },
          "execution_count": 192,
          "metadata": {},
          "output_type": "execute_result"
        }
      ],
      "source": [
        "mlp_prior = jax.tree_map(\n",
        "    lambda param: tfd.Independent(\n",
        "        # tfd.Normal(loc=jnp.zeros(param.shape), scale=jnp.sqrt(2*jnp.ones(param.shape)/sum(param.shape))),\n",
        "        tfd.Normal(loc=jnp.zeros(param.shape), scale=jnp.ones(param.shape)),\n",
        "\n",
        "        reinterpreted_batch_ndims=len(param.shape),\n",
        "    ),\n",
        "    init_params,\n",
        ")\n",
        "prior = {\"mlp\": mlp_prior, \"noise_scale\": tfd.Gamma(1.0, 2.0)}\n",
        "prior"
      ]
    },
    {
      "cell_type": "markdown",
      "id": "c99dc462",
      "metadata": {
        "id": "c99dc462"
      },
      "source": [
        "No change of variable is needed for this model, thus we set `tfd.Identity()` bijector."
      ]
    },
    {
      "cell_type": "code",
      "execution_count": 193,
      "id": "a1a7f49c",
      "metadata": {
        "colab": {
          "base_uri": "https://localhost:8080/"
        },
        "id": "a1a7f49c",
        "outputId": "c546e091-95c1-4ff8-8794-7753cfc53de2",
        "scrolled": false
      },
      "outputs": [
        {
          "data": {
            "text/plain": [
              "{'mlp': {'params': {'dense0': {'bias': <tfp.bijectors.Identity 'identity' batch_shape=[] forward_min_event_ndims=0 inverse_min_event_ndims=0 dtype_x=? dtype_y=?>,\n",
              "    'kernel': <tfp.bijectors.Identity 'identity' batch_shape=[] forward_min_event_ndims=0 inverse_min_event_ndims=0 dtype_x=? dtype_y=?>},\n",
              "   'dense1': {'bias': <tfp.bijectors.Identity 'identity' batch_shape=[] forward_min_event_ndims=0 inverse_min_event_ndims=0 dtype_x=? dtype_y=?>,\n",
              "    'kernel': <tfp.bijectors.Identity 'identity' batch_shape=[] forward_min_event_ndims=0 inverse_min_event_ndims=0 dtype_x=? dtype_y=?>},\n",
              "   'denselast': {'bias': <tfp.bijectors.Identity 'identity' batch_shape=[] forward_min_event_ndims=0 inverse_min_event_ndims=0 dtype_x=? dtype_y=?>,\n",
              "    'kernel': <tfp.bijectors.Identity 'identity' batch_shape=[] forward_min_event_ndims=0 inverse_min_event_ndims=0 dtype_x=? dtype_y=?>}}},\n",
              " 'noise_scale': <tfp.bijectors.Exp 'exp' batch_shape=[] forward_min_event_ndims=0 inverse_min_event_ndims=0 dtype_x=? dtype_y=?>}"
            ]
          },
          "execution_count": 193,
          "metadata": {},
          "output_type": "execute_result"
        }
      ],
      "source": [
        "mlp_bijector = jax.tree_map(lambda param: tfb.Identity(), init_params)\n",
        "bijector = {\"mlp\": mlp_bijector, \"noise_scale\": tfb.Exp()}\n",
        "bijector"
      ]
    },
    {
      "cell_type": "markdown",
      "id": "c969817c",
      "metadata": {
        "id": "c969817c"
      },
      "source": [
        "## Define log likelihood function"
      ]
    },
    {
      "cell_type": "code",
      "execution_count": 194,
      "id": "1fd20f0e",
      "metadata": {
        "id": "1fd20f0e"
      },
      "outputs": [],
      "source": [
        "def log_likelihood_fn(latent_sample, outputs, inputs, **kwargs):\n",
        "    scale = latent_sample[\"noise_scale\"]\n",
        "    y_pred = mlp.apply(latent_sample[\"mlp\"], inputs['X'])\n",
        "    return tfd.StudentT(df = 2, loc=y_pred, scale=scale).log_prob(outputs).sum()"
      ]
    },
    {
      "cell_type": "markdown",
      "id": "70ef0c4b",
      "metadata": {
        "id": "70ef0c4b"
      },
      "source": [
        "## Initialize the ADVI model"
      ]
    },
    {
      "cell_type": "code",
      "execution_count": 195,
      "id": "c3f3062a",
      "metadata": {
        "id": "c3f3062a"
      },
      "outputs": [],
      "source": [
        "model = ADVI(prior, bijector, log_likelihood_fn, vi_type=\"mean_field\")"
      ]
    },
    {
      "cell_type": "code",
      "execution_count": 195,
      "id": "KX1EMiVM3r2E",
      "metadata": {
        "id": "KX1EMiVM3r2E"
      },
      "outputs": [],
      "source": []
    },
    {
      "cell_type": "markdown",
      "id": "a38e3ac6",
      "metadata": {
        "id": "a38e3ac6"
      },
      "source": [
        "## Initialize the parameters"
      ]
    },
    {
      "cell_type": "code",
      "execution_count": 196,
      "id": "ceb8984a",
      "metadata": {
        "id": "ceb8984a"
      },
      "outputs": [],
      "source": [
        "params = model.init(jax.random.PRNGKey(init + 2))\n",
        "mean = params[\"posterior\"].mean()\n",
        "params[\"posterior\"] = tfd.MultivariateNormalDiag(\n",
        "    loc=mean,\n",
        "    scale_diag=jax.random.normal(jax.random.PRNGKey(init-1), shape=(len(mean), ))-5,\n",
        ")"
      ]
    },
    {
      "cell_type": "markdown",
      "id": "851a7d90",
      "metadata": {
        "id": "851a7d90"
      },
      "source": [
        "## Fit the model"
      ]
    },
    {
      "cell_type": "code",
      "execution_count": 197,
      "id": "a2518956",
      "metadata": {
        "colab": {
          "base_uri": "https://localhost:8080/"
        },
        "id": "a2518956",
        "outputId": "6f3b34ec-fedd-4507-d6d0-b50afb1a202d"
      },
      "outputs": [
        {
          "name": "stdout",
          "output_type": "stream",
          "text": [
            "CPU times: user 18.2 s, sys: 549 ms, total: 18.7 s\n",
            "Wall time: 15 s\n"
          ]
        }
      ],
      "source": [
        "%%time\n",
        "tx = optax.adam(learning_rate=0.01)\n",
        "seed1 = jax.random.PRNGKey(init + 4)\n",
        "seed2 = jax.random.PRNGKey(init + 5)\n",
        "\n",
        "loss_fn = partial(model.loss_fn, inputs={\"X\": X}, outputs=y, full_data_size=len(y), n_samples=100)\n",
        "results = train_fn(\n",
        "    loss_fn,\n",
        "    params,\n",
        "    n_epochs=1000,\n",
        "    optimizer=tx,\n",
        "    seed=seed2,\n",
        "    return_args={\"losses\"},\n",
        ")"
      ]
    },
    {
      "cell_type": "markdown",
      "id": "d3526f36",
      "metadata": {
        "id": "d3526f36"
      },
      "source": [
        "Check the loss"
      ]
    },
    {
      "cell_type": "code",
      "execution_count": 198,
      "id": "c2c9bab3",
      "metadata": {
        "colab": {
          "base_uri": "https://localhost:8080/",
          "height": 430
        },
        "id": "c2c9bab3",
        "outputId": "667c5773-6ef9-4164-cf19-e0cf3b932d12",
        "scrolled": true
      },
      "outputs": [
        {
          "data": {
            "image/png": "[encoded data removed]",
            "text/plain": [
              "<Figure size 640x480 with 1 Axes>"
            ]
          },
          "metadata": {},
          "output_type": "display_data"
        }
      ],
      "source": [
        "plt.plot(results['losses']);"
      ]
    },
    {
      "cell_type": "markdown",
      "id": "37f489c3",
      "metadata": {
        "id": "37f489c3"
      },
      "source": [
        "## Get the posterior distribution"
      ]
    },
    {
      "cell_type": "code",
      "execution_count": 199,
      "id": "DtP3vIr4yJ4S",
      "metadata": {
        "colab": {
          "base_uri": "https://localhost:8080/"
        },
        "id": "DtP3vIr4yJ4S",
        "outputId": "aa16ff38-4d0e-41f9-af62-5d8a35381624"
      },
      "outputs": [
        {
          "data": {
            "text/plain": [
              "{'posterior': <tfp.distributions.MultivariateNormalDiag 'MultivariateNormalDiag' batch_shape=[] event_shape=[610] dtype=float32>}"
            ]
          },
          "execution_count": 199,
          "metadata": {},
          "output_type": "execute_result"
        }
      ],
      "source": [
        "results['params']"
      ]
    },
    {
      "cell_type": "code",
      "execution_count": 200,
      "id": "34202144",
      "metadata": {
        "id": "34202144"
      },
      "outputs": [],
      "source": [
        "posterior = model.apply(results[\"params\"])"
      ]
    },
    {
      "cell_type": "markdown",
      "id": "c83dfc04",
      "metadata": {
        "id": "c83dfc04"
      },
      "source": [
        "## Draw samples from the posterior"
      ]
    },
    {
      "cell_type": "markdown",
      "id": "dcc9262b",
      "metadata": {
        "id": "dcc9262b"
      },
      "source": [
        "We now generate the samples from the predictive distribution."
      ]
    },
    {
      "cell_type": "code",
      "execution_count": 201,
      "id": "99ae81cc",
      "metadata": {
        "colab": {
          "base_uri": "https://localhost:8080/"
        },
        "id": "99ae81cc",
        "outputId": "43e5a196-1d0c-43ab-9822-d7e99e62ec83"
      },
      "outputs": [
        {
          "data": {
            "text/plain": [
              "(1000, 200)"
            ]
          },
          "execution_count": 201,
          "metadata": {},
          "output_type": "execute_result"
        }
      ],
      "source": [
        "seed = jax.random.PRNGKey(init+6)\n",
        "samples = posterior.sample(seed, sample_shape=(1000,))\n",
        "def draw_sample(sample):\n",
        "    y_pred = mlp.apply(sample['mlp'], X_test)\n",
        "    return y_pred\n",
        "y_samples = jax.vmap(draw_sample)(samples)\n",
        "y_samples.shape"
      ]
    },
    {
      "cell_type": "markdown",
      "id": "1f63c5c0",
      "metadata": {
        "id": "1f63c5c0"
      },
      "source": [
        "## Visualizing the fit"
      ]
    },
    {
      "cell_type": "code",
      "execution_count": 201,
      "id": "oRTWgarE12Bw",
      "metadata": {
        "id": "oRTWgarE12Bw"
      },
      "outputs": [],
      "source": []
    },
    {
      "cell_type": "code",
      "execution_count": 204,
      "id": "b034a6c7",
      "metadata": {
        "colab": {
          "base_uri": "https://localhost:8080/",
          "height": 452
        },
        "id": "b034a6c7",
        "outputId": "3d301989-be08-4aae-cb4a-c2fdf67ecad6",
        "scrolled": false
      },
      "outputs": [
        {
          "name": "stdout",
          "output_type": "stream",
          "text": [
            "0.070952564\n"
          ]
        },
        {
          "data": {
            "image/png": "[encoded data removed]",
            "text/plain": [
              "<Figure size 640x480 with 1 Axes>"
            ]
          },
          "metadata": {},
          "output_type": "display_data"
        }
      ],
      "source": [
        "y_mean = y_samples.mean(axis=0)\n",
        "y_std = y_samples.std(axis=0)\n",
        "\n",
        "noise_scale = samples['noise_scale'].mean()\n",
        "print(noise_scale)\n",
        "plt.scatter(X, y);\n",
        "plt.plot(X_test, y_mean);\n",
        "plt.fill_between(X_test.ravel(), y_mean-2*y_std-noise_scale, y_mean+2*y_std+noise_scale, alpha=0.4);\n",
        "plt.ylim(-1, 1.5)\n",
        "plt.savefig(\"neural_net.pdf\")"
      ]
    },
    {
      "cell_type": "code",
      "execution_count": 202,
      "id": "Wny6qinewmpP",
      "metadata": {
        "id": "Wny6qinewmpP"
      },
      "outputs": [],
      "source": []
    }
  ],
  "metadata": {
    "colab": {
      "provenance": []
    },
    "kernelspec": {
      "display_name": "Python [conda env:ajax]",
      "language": "python",
      "name": "conda-env-ajax-py"
    },
    "language_info": {
      "codemirror_mode": {
        "name": "ipython",
        "version": 3
      },
      "file_extension": ".py",
      "mimetype": "text/x-python",
      "name": "python",
      "nbconvert_exporter": "python",
      "pygments_lexer": "ipython3",
      "version": "3.9.12"
    }
  },
  "nbformat": 4,
  "nbformat_minor": 5
}
