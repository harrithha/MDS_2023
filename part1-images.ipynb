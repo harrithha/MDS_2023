{
 "cells": [
  {
   "cell_type": "code",
   "execution_count": null,
   "metadata": {},
   "outputs": [],
   "source": [
    "import cv2 "
   ]
  },
  {
   "cell_type": "code",
   "execution_count": null,
   "metadata": {},
   "outputs": [],
   "source": [
    "# Function to extract frames\n",
    "\n",
    "def extract_frames(path, vid_path):\n",
    "    \n",
    "    # Path to video file\n",
    "    videoObj = cv2.VideoCapture(path)\n",
    "  \n",
    "    # Used as counter variable\n",
    "    count = 0\n",
    "  \n",
    "    # checks whether frames were extracted\n",
    "    success = 1\n",
    "  \n",
    "    while success:\n",
    "        success, image = videoObj.read()\n",
    "        # Saves the frames with frame-count\n",
    "        cv2.imwrite(\"frame%d.jpg\" % count, image)\n",
    "  \n",
    "        count += 1\n",
    "  \n",
    "  \n",
    "# Driver Code\n",
    "if __name__ == '__main__':\n",
    "  \n",
    "    # Calling the function\n",
    "    FrameCapture(\"C:\\\\Users\\\\Admin\\\\PycharmProjects\\\\project_1\\\\openCV.mp4\")"
   ]
  }
 ],
 "metadata": {
  "kernelspec": {
   "display_name": "Python 3",
   "language": "python",
   "name": "python3"
  },
  "language_info": {
   "codemirror_mode": {
    "name": "ipython",
    "version": 3
   },
   "file_extension": ".py",
   "mimetype": "text/x-python",
   "name": "python",
   "nbconvert_exporter": "python",
   "pygments_lexer": "ipython3",
   "version": "3.8.10"
  },
  "orig_nbformat": 4,
  "vscode": {
   "interpreter": {
    "hash": "15fa0c71f14a2f86c8661da21312fc3d1cf0b76e48958c652e047ba9992a3476"
   }
  }
 },
 "nbformat": 4,
 "nbformat_minor": 2
}
